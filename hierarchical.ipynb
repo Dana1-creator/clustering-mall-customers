{
 "cells": [
  {
   "cell_type": "code",
   "execution_count": null,
   "id": "753b5523-d6f4-43d6-91fa-788de9a39754",
   "metadata": {},
   "outputs": [],
   "source": [
    "# Importar librerías necesarias\n",
    "import pandas as pd\n",
    "import numpy as np\n",
    "import seaborn as sns\n",
    "import matplotlib.pyplot as plt\n",
    "from sklearn.preprocessing import StandardScaler\n",
    "from sklearn.decomposition import PCA\n",
    "from scipy.cluster.hierarchy import dendrogram, linkage\n",
    "from sklearn.cluster import AgglomerativeClustering\n",
    "from sklearn.metrics import silhouette_score, calinski_harabasz_score"
   ]
  },
  {
   "cell_type": "code",
   "execution_count": null,
   "id": "33948e43-b74b-4178-b402-eeb205a7a88d",
   "metadata": {},
   "outputs": [],
   "source": [
    "\n",
    "# 1. Cargar el dataset\n",
    "df = pd.read_csv('Mall_Customers.csv',sep=\";\")"
   ]
  },
  {
   "cell_type": "code",
   "execution_count": null,
   "id": "6d8e6b39-5a6a-41ca-9fc1-e264d0ff390c",
   "metadata": {},
   "outputs": [],
   "source": [
    "# Mostrar las primeras filas del dataset\n",
    "print(df.head())"
   ]
  },
  {
   "cell_type": "code",
   "execution_count": null,
   "id": "eed0011c-7c33-41d1-91e5-9da48e66cc28",
   "metadata": {},
   "outputs": [],
   "source": [
    "# Información del dataset\n",
    "print(df.info())"
   ]
  },
  {
   "cell_type": "code",
   "execution_count": null,
   "id": "1d32928a-d19a-42b5-8275-cf94f0319e3f",
   "metadata": {},
   "outputs": [],
   "source": [
    "# Estadísticas descriptivas\n",
    "print(df.describe())\n"
   ]
  },
  {
   "cell_type": "code",
   "execution_count": null,
   "id": "426e3961-93ae-4cc1-a62a-23d7d3895d75",
   "metadata": {},
   "outputs": [],
   "source": [
    "print(df.isnull().sum())\n",
    "print(df.shape)\n"
   ]
  },
  {
   "cell_type": "code",
   "execution_count": null,
   "id": "c38f3e09-ad38-4989-b6cf-77f14922c4eb",
   "metadata": {},
   "outputs": [],
   "source": [
    "# Normalización de los datos\n",
    "# Selección explícita de columnas numéricas (excepto CustomerID)\n",
    "numeric_cols = df.drop(['CustomerID'], axis=1).select_dtypes(include=[np.number]).columns\n",
    "df_scaled = scaler.fit_transform(df[numeric_cols])\n",
    "\n",
    "#scaler = StandardScaler()\n",
    "#df_scaled = scaler.fit_transform(df.drop('CustomerID', axis=1))"
   ]
  },
  {
   "cell_type": "code",
   "execution_count": null,
   "id": "b474ab50-3b99-4349-9bc6-ae70dd44a518",
   "metadata": {},
   "outputs": [],
   "source": [
    "\n",
    "# Aplicar PCA para reducción de dimensionalidad (opcional)\n",
    "pca = PCA(n_components=2)  # Elegir el número de componentes principales\n",
    "df_pca = pca.fit_transform(df_scaled)"
   ]
  },
  {
   "cell_type": "code",
   "execution_count": null,
   "id": "bed06d32-b76a-438b-844e-71b441977893",
   "metadata": {},
   "outputs": [],
   "source": [
    "print(f'Varianza explicada por cada componente: {pca.explained_variance_ratio_}')\n",
    "print(f'Componentes principales:\\n{pca.components_}')\n",
    "\n",
    "# Realizar el clustering jerárquico\n",
    "Z = linkage(df_pca, method='ward')\n"
   ]
  },
  {
   "cell_type": "code",
   "execution_count": null,
   "id": "fa5c4f5b-8ca3-430b-aace-6590cf22ee4a",
   "metadata": {},
   "outputs": [],
   "source": [
    "# Visualizar el dendrograma\n",
    "plt.figure(figsize=(10, 7))\n",
    "dendrogram(Z)\n",
    "plt.show()"
   ]
  },
  {
   "cell_type": "code",
   "execution_count": null,
   "id": "1e0c935c-034c-4c9f-9133-1a0456361c75",
   "metadata": {},
   "outputs": [],
   "source": [
    "# Entrenar el modelo con un número específico de clusters\n",
    "model = AgglomerativeClustering(n_clusters=3)\n",
    "model.fit(df_pca)\n",
    "labels = model.labels_"
   ]
  },
  {
   "cell_type": "code",
   "execution_count": null,
   "id": "3d59df63-bfac-48c0-8055-c7b3b7124916",
   "metadata": {},
   "outputs": [],
   "source": [
    "# Evaluar el desempeño del modelo\n",
    "silhouette_avg = silhouette_score(df_pca, labels)\n",
    "calinski_harabasz = calinski_harabasz_score(df_pca, labels)"
   ]
  },
  {
   "cell_type": "code",
   "execution_count": null,
   "id": "089812fc-b2fa-4ffb-bdb2-4eb741010450",
   "metadata": {},
   "outputs": [],
   "source": [
    "print(f'Coeficiente de Silhouette: {silhouette_avg}')\n",
    "print(f'Índice de Calinski-Harabasz: {calinski_harabasz}')"
   ]
  },
  {
   "cell_type": "code",
   "execution_count": null,
   "id": "8abc673f-ad39-4e28-9688-44ca8366c37f",
   "metadata": {},
   "outputs": [],
   "source": [
    "# Visualización de clusters\n",
    "plt.figure(figsize=(10, 7))\n",
    "plt.scatter(df_pca[:, 0], df_pca[:, 1], c=labels, cmap='rainbow')\n",
    "plt.xlabel('Componente Principal 1')\n",
    "plt.ylabel('Componente Principal 2')\n",
    "plt.title('Clusters de Clientes')\n",
    "plt.show()"
   ]
  },
  {
   "cell_type": "code",
   "execution_count": null,
   "id": "6cf94a15-0995-4c77-b030-5bac902e04eb",
   "metadata": {},
   "outputs": [],
   "source": []
  }
 ],
 "metadata": {
  "kernelspec": {
   "display_name": "Python 3 (ipykernel)",
   "language": "python",
   "name": "python3"
  },
  "language_info": {
   "codemirror_mode": {
    "name": "ipython",
    "version": 3
   },
   "file_extension": ".py",
   "mimetype": "text/x-python",
   "name": "python",
   "nbconvert_exporter": "python",
   "pygments_lexer": "ipython3",
   "version": "3.12.7"
  }
 },
 "nbformat": 4,
 "nbformat_minor": 5
}
