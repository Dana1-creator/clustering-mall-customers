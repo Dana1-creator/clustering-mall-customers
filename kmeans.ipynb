{
 "cells": [
  {
   "cell_type": "code",
   "execution_count": null,
   "id": "a3fa07fa-430f-408d-afe0-a50c4d1f7e39",
   "metadata": {},
   "outputs": [],
   "source": [
    "# Importación de librerias\n",
    "import pandas as pd\n",
    "import numpy as np\n",
    "import matplotlib.pyplot as plt\n",
    "import seaborn as sns\n",
    "from sklearn.preprocessing import StandardScaler\n",
    "from sklearn.cluster import KMeans\n",
    "from sklearn.metrics import silhouette_score, calinski_harabasz_score, davies_bouldin_score\n"
   ]
  },
  {
   "cell_type": "code",
   "execution_count": null,
   "id": "48cbbe87-1079-4b8b-9ef0-049abf83650e",
   "metadata": {},
   "outputs": [],
   "source": [
    "# Preprocesamiento de datos para el analisis exploratorio de datos\n",
    "from sklearn.preprocessing import StandardScaler\n",
    "from sklearn.cluster import KMeans\n",
    "from sklearn.metrics import silhouette_score, calinski_harabasz_score\n",
    "from sklearn.decomposition import PCA"
   ]
  },
  {
   "cell_type": "code",
   "execution_count": null,
   "id": "208fd60e-5eeb-4b08-b31e-cf518e3e4549",
   "metadata": {},
   "outputs": [],
   "source": [
    "# Cargar el dataset desde un archivo local\n",
    "df = pd.read_csv(\"Mall_Customers.csv\")\n",
    "\n",
    "# Vista previa\n",
    "print(df.head())"
   ]
  },
  {
   "cell_type": "code",
   "execution_count": null,
   "id": "fe92b7de-2efe-4996-85b2-9f0db2ad38d6",
   "metadata": {},
   "outputs": [],
   "source": [
    "# 2.  analisis exploratorio de datos\n",
    "# Información básica del dataset\n",
    "print(\"Información del dataset:\")\n",
    "print(df.info())"
   ]
  },
  {
   "cell_type": "code",
   "execution_count": null,
   "id": "e918805e-4a13-41ac-9253-560ab2a3d319",
   "metadata": {},
   "outputs": [],
   "source": [
    "# Resumen de estadisticas\n",
    "print(\"\\nResumen estadistico:\")\n",
    "print(df.describe())"
   ]
  },
  {
   "cell_type": "code",
   "execution_count": null,
   "id": "fed70eac-d82b-4936-9e23-26b0b9ce0cf1",
   "metadata": {},
   "outputs": [],
   "source": [
    "# Check for missing values\n",
    "print(\"\\nValores faltantes:\")\n",
    "print(df.isnull().sum())"
   ]
  },
  {
   "cell_type": "code",
   "execution_count": null,
   "id": "c6b71aeb-4428-43ea-b138-6b064ef4a12e",
   "metadata": {},
   "outputs": [],
   "source": [
    "# Visualization of distributions\n",
    "plt.figure(figsize=(15, 10))\n",
    "# Histograma\n",
    "numerical_cols = ['Age', 'Annual Income (k$)', 'Spending Score (1-100)']\n",
    "for i, col in enumerate(numerical_cols, 1):\n",
    "    plt.subplot(2, 2, i)\n",
    "    sns.histplot(df[col], kde=True)\n",
    "    plt.title(f'Distribucion de {col}')\n",
    "\n",
    "    plt.tight_layout()\n",
    "    plt.show()\n",
    "\n",
    "     # Mapa de calor de correlaciones\n",
    "    plt.figure(figsize=(10, 8))\n",
    "    correlation_matrix = df[numerical_cols].corr()\n",
    "    sns.heatmap(correlation_matrix, annot=True, cmap='coolwarm', center=0)\n",
    "    plt.title('Mapa de calor de correlaciones')\n",
    "    plt.show()\n",
    "\n",
    "        # Caja bigote\n",
    "    plt.figure(figsize=(15, 5))\n",
    "    for i, col in enumerate(numerical_cols, 1):\n",
    "        plt.subplot(1, 3, i)\n",
    "        sns.boxplot(x=df[col])\n",
    "        plt.title(f'Boxplot de {col}')\n",
    "    plt.tight_layout()\n",
    "    plt.show()"
   ]
  },
  {
   "cell_type": "code",
   "execution_count": null,
   "id": "f530d88d-3db1-4595-9f53-d1276cd0650d",
   "metadata": {},
   "outputs": [],
   "source": [
    "# 3. Preprocesamiento de datos\n",
    "def preprocess_data(dataframe):\n",
    "    # Select features for clustering\n",
    "    features = ['Annual Income (k$)', 'Spending Score (1-100)']\n",
    "    X = dataframe[features]\n",
    "\n",
    "    # Standarizar las caracteristicas\n",
    "    scaler = StandardScaler()\n",
    "    X_scaled = scaler.fit_transform(X)\n",
    "\n",
    "    return X_scaled, features"
   ]
  },
  {
   "cell_type": "code",
   "execution_count": null,
   "id": "146c1424-bd0f-481b-83f0-7e1b39a37144",
   "metadata": {},
   "outputs": [],
   "source": [
    "# Preprocesar los datos\n",
    "X_scaled, features = preprocess_data(df)\n",
    "\n",
    "# 4. Método de elbow\n",
    "def find_optimal_clusters(X_scaled):\n",
    "\n",
    "    inertias = []\n",
    "    silhouette_scores = []\n",
    "    k_range = range(2, 11)\n",
    "\n",
    "    for k in k_range:\n",
    "        kmeans = KMeans(n_clusters=k, random_state=42)\n",
    "        kmeans.fit(X_scaled)\n",
    "        inertias.append(kmeans.inertia_)\n",
    "        silhouette_scores.append(silhouette_score(X_scaled, kmeans.labels_))\n",
    "\n",
    "\n",
    "    plt.figure(figsize=(12, 5))\n",
    "\n",
    "    plt.subplot(1, 2, 1)\n",
    "    plt.plot(k_range, inertias, 'bx-')\n",
    "    plt.xlabel('k')\n",
    "    plt.ylabel('Inertia')\n",
    "    plt.title('Elbow Method')\n",
    "\n",
    "    plt.subplot(1, 2, 2)\n",
    "    plt.plot(k_range, silhouette_scores, 'bx-')\n",
    "    plt.xlabel('k')\n",
    "    plt.ylabel('Silhouette Score')\n",
    "    plt.title('Silhouette Score')\n",
    "\n",
    "    plt.tight_layout()\n",
    "    plt.show()\n",
    "\n",
    "    return inertias, silhouette_scores\n"
   ]
  },
  {
   "cell_type": "code",
   "execution_count": null,
   "id": "1686747e-37f1-43f0-87f1-d188090bb704",
   "metadata": {},
   "outputs": [],
   "source": [
    "# Hallar el número óptimo de clusters\n",
    "inertias, silhouette_scores = find_optimal_clusters(X_scaled)\n",
    "\n",
    "# 5. Ejecutar k-clustering\n",
    "def perform_clustering(X_scaled, n_clusters=5):\n",
    "    # Perform K-Means Clustering\n",
    "    kmeans = KMeans(n_clusters=n_clusters, random_state=42)\n",
    "    cluster_labels = kmeans.fit_predict(X_scaled)\n",
    "\n",
    "    # Compute clustering metrics\n",
    "    silhouette = silhouette_score(X_scaled, cluster_labels)\n",
    "    calinski = calinski_harabasz_score(X_scaled, cluster_labels)\n",
    "\n",
    "    print(f\"Clustering Metrics for {n_clusters} clusters:\")\n",
    "    print(f\"Silhouette Score: {silhouette:.4f}\")\n",
    "    print(f\"Calinski-Harabasz Index: {calinski:.4f}\")\n",
    "\n",
    "    return kmeans, cluster_labels\n",
    "\n",
    "kmeans, cluster_labels = perform_clustering(X_scaled)"
   ]
  },
  {
   "cell_type": "code",
   "execution_count": null,
   "id": "50c880ab-c6af-450c-b1c5-001894f86be8",
   "metadata": {},
   "outputs": [],
   "source": [
    "def visualize_clusters(X_scaled, cluster_labels, features):\n",
    "    # Create a DataFrame with scaled features and cluster labels\n",
    "    cluster_df = pd.DataFrame(X_scaled, columns=features)\n",
    "    cluster_df['Cluster'] = cluster_labels\n",
    "\n",
    "    plt.figure(figsize=(10, 8))\n",
    "    scatter = plt.scatter(cluster_df[features[0]],\n",
    "                          cluster_df[features[1]],\n",
    "                          c=cluster_df['Cluster'],\n",
    "                          cmap='viridis')\n",
    "    plt.xlabel(features[0])\n",
    "    plt.ylabel(features[1])\n",
    "    plt.title('Clusters of Mall Customers')\n",
    "    plt.colorbar(scatter)\n",
    "    plt.show()\n",
    "\n",
    "    cluster_centers = kmeans.cluster_centers_\n",
    "    print(\"\\nCluster Centers:\")\n",
    "    center_df = pd.DataFrame(cluster_centers, columns=features)\n",
    "    print(center_df)\n",
    "\n",
    "    plt.figure(figsize=(10, 6))\n",
    "    cluster_df['Cluster'].value_counts().plot(kind='bar')\n",
    "    plt.title('Distribution of Customers in Each Cluster')\n",
    "    plt.xlabel('Cluster')\n",
    "    plt.ylabel('Number of Customers')\n",
    "    plt.show()"
   ]
  },
  {
   "cell_type": "code",
   "execution_count": null,
   "id": "368ddf5a-20e0-48d5-b9bd-01105cd2d358",
   "metadata": {},
   "outputs": [],
   "source": [
    "visualize_clusters(X_scaled, cluster_labels, features)"
   ]
  },
  {
   "cell_type": "code",
   "execution_count": null,
   "id": "3ace5bb6-fe0e-4022-a634-04acd40e846f",
   "metadata": {},
   "outputs": [],
   "source": [
    "def analyze_clusters(original_df, cluster_labels, features):\n",
    "    clustered_df = original_df.copy()\n",
    "    clustered_df['Cluster'] = cluster_labels\n",
    "\n",
    "    cluster_analysis = clustered_df.groupby('Cluster')[['Age', 'Annual Income (k$)', 'Spending Score (1-100)']].mean()\n",
    "    print(\"\\nCluster Characteristics:\")\n",
    "    print(cluster_analysis)\n",
    "\n",
    "    plt.figure(figsize=(15, 5))\n",
    "\n",
    "    plt.subplot(1, 2, 1)\n",
    "    cluster_gender = pd.crosstab(clustered_df['Cluster'], clustered_df['Gender'], normalize='index')\n",
    "    cluster_gender.plot(kind='bar', stacked=True, ax=plt.gca())\n",
    "    plt.title('Gender Distribution in Clusters')\n",
    "    plt.xlabel('Cluster')\n",
    "    plt.ylabel('Proportion')\n",
    "\n",
    "    plt.subplot(1, 2, 2)\n",
    "    sns.boxplot(x='Cluster', y='Age', data=clustered_df)\n",
    "    plt.title('Age Distribution in Clusters')\n",
    "\n",
    "    plt.tight_layout()\n",
    "    plt.show()\n",
    "\n",
    "analyze_clusters(df, cluster_labels, features)\n",
    "\n",
    "print(\"K-Means Clustering Analysis Complete!\")\n",
    "     "
   ]
  }
 ],
 "metadata": {
  "kernelspec": {
   "display_name": "Python 3 (ipykernel)",
   "language": "python",
   "name": "python3"
  },
  "language_info": {
   "codemirror_mode": {
    "name": "ipython",
    "version": 3
   },
   "file_extension": ".py",
   "mimetype": "text/x-python",
   "name": "python",
   "nbconvert_exporter": "python",
   "pygments_lexer": "ipython3",
   "version": "3.12.7"
  }
 },
 "nbformat": 4,
 "nbformat_minor": 5
}
